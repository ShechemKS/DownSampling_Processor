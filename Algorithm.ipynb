{
 "cells": [
  {
   "cell_type": "code",
   "execution_count": 1,
   "metadata": {},
   "outputs": [],
   "source": [
    "%matplotlib inline\n",
    "import numpy as np\n",
    "import matplotlib.pyplot as plt\n",
    "import cv2 as cv"
   ]
  },
  {
   "cell_type": "code",
   "execution_count": 2,
   "metadata": {},
   "outputs": [],
   "source": [
    "image = cv.imread('Image.jpg',0)"
   ]
  },
  {
   "cell_type": "code",
   "execution_count": 3,
   "metadata": {},
   "outputs": [
    {
     "name": "stdout",
     "output_type": "stream",
     "text": [
      "256 256\n"
     ]
    }
   ],
   "source": [
    "image = cv.resize(image, (256,256))\n",
    "height, width =image.shape\n",
    "arr_size = height*width\n",
    "print(height, width)"
   ]
  },
  {
   "cell_type": "code",
   "execution_count": 4,
   "metadata": {},
   "outputs": [],
   "source": [
    "def arrgaussianH(arr, k, l, dest):\n",
    "    shape = arr.shape[0]\n",
    "    n, m = 0, 0\n",
    "    count, count2 = 0, 0\n",
    "    while n < shape - 3:\n",
    "        val = 0\n",
    "        for i in range (n, n+3):\n",
    "            val += k[count]*arr[i]\n",
    "            count += 1\n",
    "            if count > 3:\n",
    "                print('error for-loop')\n",
    "        \n",
    "        dest[m] = val//4\n",
    "        m += 1; count = 0\n",
    "        \n",
    "        if count2 == l - 3:\n",
    "            n += 3\n",
    "            count2 = 0\n",
    "        else:\n",
    "            n += 1\n",
    "            count2 += 1\n",
    "    return"
   ]
  },
  {
   "cell_type": "code",
   "execution_count": 5,
   "metadata": {},
   "outputs": [],
   "source": [
    "def arrgaussianV(arr, k, l, dest):\n",
    "    shape = arr.shape[0]\n",
    "    n = 0\n",
    "    count = 0\n",
    "    while n < shape - 2*(l - 2):\n",
    "        val = 0\n",
    "        for i in range (n, n+2*(l-2)+1, l-2):\n",
    "            val += k[count]*arr[i]\n",
    "            count += 1\n",
    "            if count > 3:\n",
    "                print('error for-loop')\n",
    "        val += 1\n",
    "        dest[n] = val//4\n",
    "        n += 1  \n",
    "        count = 0\n",
    "    return    "
   ]
  },
  {
   "cell_type": "code",
   "execution_count": 6,
   "metadata": {},
   "outputs": [],
   "source": [
    "def downsample(arr, l, dest):\n",
    "    shape = arr.shape[0]\n",
    "    n, m= 0, 0\n",
    "    count = 0\n",
    "    while n < shape:\n",
    "        for i in range(n,n+(l-2), 2):\n",
    "            dest[m] = arr[i]\n",
    "            m += 1\n",
    "        \n",
    "        n += 2*(l-2)\n",
    "    return "
   ]
  },
  {
   "cell_type": "code",
   "execution_count": 7,
   "metadata": {},
   "outputs": [
    {
     "name": "stdout",
     "output_type": "stream",
     "text": [
      "(16129, 1)\n"
     ]
    }
   ],
   "source": [
    "img_arr = (image.flatten()).reshape(arr_size, 1)\n",
    "D1 = np.empty((height - 2, width - 2))\n",
    "D2 = np.empty((arr_size - 2*height,1))\n",
    "D3 = np.empty((arr_size - 2*height - (width-2)*2, 1))\n",
    "D4 = np.empty((((height - 2)//2)*((width-2)//2), 1)); print(D4.shape)"
   ]
  },
  {
   "cell_type": "code",
   "execution_count": 8,
   "metadata": {},
   "outputs": [],
   "source": [
    "kernel1D = np.array([1,2,1]).reshape(3,1)"
   ]
  },
  {
   "cell_type": "code",
   "execution_count": 9,
   "metadata": {},
   "outputs": [],
   "source": [
    "arrgaussianH(img_arr, kernel1D, width, D2)\n",
    "arrgaussianV(D2, kernel1D, width, D3)\n",
    "\n",
    "gaussian = (D3.reshape(height-2, width-2)).astype('uint8')"
   ]
  },
  {
   "cell_type": "code",
   "execution_count": 18,
   "metadata": {},
   "outputs": [
    {
     "name": "stdout",
     "output_type": "stream",
     "text": [
      "[[ 14.]\n",
      " [113.]\n",
      " [200.]\n",
      " [194.]\n",
      " [122.]\n",
      " [ 12.]\n",
      " [ 11.]\n",
      " [ 52.]]\n",
      "(127, 127)\n"
     ]
    }
   ],
   "source": [
    "downsample(D3, width, D4)\n",
    "down = (D4.reshape((height-2)//2, (width-2)//2)).astype('uint8')\n",
    "print(D4[16120:16128])\n",
    "print(down.shape)"
   ]
  },
  {
   "cell_type": "code",
   "execution_count": 12,
   "metadata": {},
   "outputs": [],
   "source": [
    "taken = cv.imread(\"Downsampled.png\",0)"
   ]
  },
  {
   "cell_type": "code",
   "execution_count": 19,
   "metadata": {},
   "outputs": [
    {
     "name": "stdout",
     "output_type": "stream",
     "text": [
      "7.945377414449519\n"
     ]
    }
   ],
   "source": [
    "mse = np.sqrt(((down - taken)**2).mean())\n",
    "print (mse)"
   ]
  }
 ],
 "metadata": {
  "kernelspec": {
   "display_name": "Python 3",
   "language": "python",
   "name": "python3"
  },
  "language_info": {
   "codemirror_mode": {
    "name": "ipython",
    "version": 3
   },
   "file_extension": ".py",
   "mimetype": "text/x-python",
   "name": "python",
   "nbconvert_exporter": "python",
   "pygments_lexer": "ipython3",
   "version": "3.6.8"
  }
 },
 "nbformat": 4,
 "nbformat_minor": 2
}
